{
 "cells": [
  {
   "cell_type": "code",
   "execution_count": null,
   "id": "d57ee89b-f3ed-4b78-b7e7-f9ad08e72576",
   "metadata": {},
   "outputs": [],
   "source": [
    "#公園"
   ]
  }
 ],
 "metadata": {
  "kernelspec": {
   "display_name": "Python 3 (ipykernel)",
   "language": "python",
   "name": "python3"
  },
  "language_info": {
   "codemirror_mode": {
    "name": "ipython",
    "version": 3
   },
   "file_extension": ".py",
   "mimetype": "text/x-python",
   "name": "python",
   "nbconvert_exporter": "python",
   "pygments_lexer": "ipython3",
   "version": "3.11.5"
  }
 },
 "nbformat": 4,
 "nbformat_minor": 5
}
