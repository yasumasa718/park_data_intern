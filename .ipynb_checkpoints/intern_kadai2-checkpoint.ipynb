{
 "cells": [
  {
   "cell_type": "code",
   "execution_count": 1,
   "id": "68c68b2d-5f6a-4a2b-b8d5-95ad69724aba",
   "metadata": {
    "tags": []
   },
   "outputs": [],
   "source": [
    "#ライブラリ、モジュールのインポート\n",
    "import pandas as pd\n",
    "import matplotlib.pyplot as plt\n",
    "import matplotlib.font_manager as font_manager\n",
    "import matplotlib.font_manager as fm\n",
    "import geopandas as gpd\n",
    "#import xml.etree.ElementTree as ET"
   ]
  },
  {
   "cell_type": "code",
   "execution_count": 2,
   "id": "b7f1d71d-85a3-4f00-b521-e970242ac689",
   "metadata": {
    "tags": []
   },
   "outputs": [],
   "source": [
    "#Excelデータの読み込み\n",
    "# CSVファイルのパスを指定\n",
    "#\n",
    "file_path_0 = '/home/yasumasa-tezuka/NeuroDive_日揮インターン/intern_park_data/data/140007_open_data_list_20230104_(神奈川県オープンデータ情報).xlsx'\n",
    "#公園種別、所在地、設備、公園面積(m2)\n",
    "file_path_1 = '/home/yasumasa-tezuka/intern_data/140007_park_(神奈川県公園データ).xlsx'\n",
    "# #人口密度\n",
    "file_path_2 = '/home/yasumasa-tezuka/intern_data/jinkotosetai_r5_10.xlsx'\n",
    "# #行政区域の面積\n",
    "file_path_3 = '/home/yasumasa-tezuka/intern_data/2-05.xlsx'\n",
    "#フォントのパス\n",
    "font_path = '/usr/share/fonts/opentype/noto/NotoSansCJK-Regular.ttc' "
   ]
  },
  {
   "cell_type": "code",
   "execution_count": 3,
   "id": "09187f68-1ca6-484f-8f6d-0d97b47f0185",
   "metadata": {
    "tags": []
   },
   "outputs": [],
   "source": [
    "# 公園種別データの読み込み\n",
    "#park_ = pd.read_excel(file_path_0)\n",
    "park_types = pd.read_excel(file_path_1)\n",
    "park_area = pd.read_excel(file_path_1)\n",
    "park_location = pd.read_excel(file_path_1)\n",
    "park_facility = pd.read_excel(file_path_1)\n",
    "population_density = pd.read_excel(file_path_2)\n",
    "administrative_area = pd.read_excel(file_path_3)"
   ]
  },
  {
   "cell_type": "code",
   "execution_count": 4,
   "id": "698812b7-60dc-440b-ab3f-f49034b5ed5b",
   "metadata": {
    "tags": []
   },
   "outputs": [
    {
     "name": "stdout",
     "output_type": "stream",
     "text": [
      "<class 'pandas.core.frame.DataFrame'>\n",
      "RangeIndex: 8031 entries, 0 to 8030\n",
      "Data columns (total 54 columns):\n",
      " #   Column          Non-Null Count  Dtype  \n",
      "---  ------          --------------  -----  \n",
      " 0   No.             8030 non-null   float64\n",
      " 1   自治体名            8030 non-null   object \n",
      " 2   名称              8030 non-null   object \n",
      " 3   所在地             8029 non-null   object \n",
      " 4   提供開始年           8030 non-null   object \n",
      " 5   面積平方メートル        8030 non-null   object \n",
      " 6   公園種別            8030 non-null   object \n",
      " 7   トイレ             8031 non-null   object \n",
      " 8   多目的トイレ          8030 non-null   object \n",
      " 9   水飲み・手洗い         8030 non-null   object \n",
      " 10  スプリング遊具・スイング遊具  8027 non-null   object \n",
      " 11  砂場              8027 non-null   object \n",
      " 12  複合遊具            8027 non-null   object \n",
      " 13  健康器具            8026 non-null   object \n",
      " 14  ブランコ            8027 non-null   object \n",
      " 15  すべり台            8027 non-null   object \n",
      " 16  ジャングルジム         8027 non-null   object \n",
      " 17  鉄棒              8027 non-null   object \n",
      " 18  シーソー            8027 non-null   object \n",
      " 19  ターザンロープ         8027 non-null   object \n",
      " 20  ローラースライダー       1269 non-null   object \n",
      " 21  ふわふわドーム         1264 non-null   object \n",
      " 22  芝生広場            1270 non-null   object \n",
      " 23  水遊び             1266 non-null   object \n",
      " 24  ランニングコース        1265 non-null   object \n",
      " 25  テニスコート          1266 non-null   object \n",
      " 26  バスケットゴール        1284 non-null   object \n",
      " 27  野球場             1265 non-null   object \n",
      " 28  フットサル場          1264 non-null   object \n",
      " 29  サッカー場           1263 non-null   object \n",
      " 30  スケートパーク         1264 non-null   object \n",
      " 31  プール             1277 non-null   object \n",
      " 32  体育館             1264 non-null   object \n",
      " 33  陸上競技場           1264 non-null   object \n",
      " 34  ウサギ・モルモット       1264 non-null   object \n",
      " 35  ハムスター           1264 non-null   object \n",
      " 36  ひよこ             1264 non-null   object \n",
      " 37  馬・ポニー           1264 non-null   object \n",
      " 38  カフェ・飲食施設        1262 non-null   object \n",
      " 39  売店              1264 non-null   object \n",
      " 40  自動販売機           1274 non-null   object \n",
      " 41  バーベキュー場         1264 non-null   object \n",
      " 42  ドッグラン           1265 non-null   object \n",
      " 43  喫煙所             1263 non-null   object \n",
      " 44  イベント広場          1267 non-null   object \n",
      " 45  避難場所            1380 non-null   object \n",
      " 46  無料駐車場           1277 non-null   object \n",
      " 47  有料駐車場           1264 non-null   object \n",
      " 48  駐輪場             1286 non-null   object \n",
      " 49  開園時間            162 non-null    object \n",
      " 50  休園日             142 non-null    object \n",
      " 51  関連リンク           130 non-null    object \n",
      " 52  備考              401 non-null    object \n",
      " 53  最終更新日           8031 non-null   int64  \n",
      "dtypes: float64(1), int64(1), object(52)\n",
      "memory usage: 3.3+ MB\n",
      "None\n"
     ]
    }
   ],
   "source": [
    "print(park_types.info())"
   ]
  },
  {
   "cell_type": "code",
   "execution_count": 5,
   "id": "d7b0e5ba-3d89-4b34-9c11-70d5fd399e42",
   "metadata": {
    "tags": []
   },
   "outputs": [
    {
     "name": "stdout",
     "output_type": "stream",
     "text": [
      "公園種別\n",
      "街区公園                        6589\n",
      "近隣公園                         354\n",
      "その他                          300\n",
      "都市緑地                         291\n",
      "都市林                          137\n",
      "特殊公園（風致公園、動植物公園、歴史公園、墓園）      76\n",
      "地区公園（カントリーパーク）                74\n",
      "緑道                            74\n",
      "運動公園                          57\n",
      "総合公園                          46\n",
      "広域公園                          15\n",
      "広場公園                          11\n",
      "緩衝緑地                           2\n",
      "地区公園                           2\n",
      "風致公園                           2\n",
      "Name: count, dtype: int64\n",
      "所在地\n",
      "神奈川県大和市林間2-6           4\n",
      "神奈川県横浜市磯子区岡村3-25       3\n",
      "神奈川県横須賀市太田和1-1465      3\n",
      "神奈川県川崎市多摩区中野島5-2       3\n",
      "神奈川県横須賀市湘南鷹取1-3        3\n",
      "                      ..\n",
      "神奈川県横浜市中区本牧三之谷59       1\n",
      "神奈川県横浜市西区老松町63-10      1\n",
      "神奈川県横浜市南区清水ケ丘73-1      1\n",
      "神奈川県横浜市都筑区茅ケ崎南1-4      1\n",
      "神奈川県愛甲郡清川村煤ヶ谷1518-2    1\n",
      "Name: count, Length: 7949, dtype: int64\n"
     ]
    }
   ],
   "source": [
    "# 公園種別のカウント\n",
    "park_type_counts = park_types['公園種別'].value_counts()\n",
    "park_location = park_types['所在地'].value_counts()\n",
    "print(park_type_counts)\n",
    "print(park_location)"
   ]
  },
  {
   "cell_type": "code",
   "execution_count": 6,
   "id": "f9f979f7-bf4b-44a5-b3c6-0c3215858947",
   "metadata": {
    "tags": []
   },
   "outputs": [],
   "source": [
    "# フォントプロパティを設定\n",
    "font_prop = fm.FontProperties(fname=font_path)\n",
    "# Matplotlibのデフォルトフォントを更新\n",
    "plt.rcParams['font.family'] = font_prop.get_name()"
   ]
  },
  {
   "cell_type": "code",
   "execution_count": 7,
   "id": "68d970fa-d78b-4d80-84b6-5752dea33bd9",
   "metadata": {
    "tags": []
   },
   "outputs": [
    {
     "data": {
      "text/plain": [
       "<Figure size 1000x600 with 0 Axes>"
      ]
     },
     "metadata": {},
     "output_type": "display_data"
    },
    {
     "data": {
      "image/png": "[encoded data removed]",
      "text/plain": [
       "<Figure size 640x480 with 1 Axes>"
      ]
     },
     "metadata": {},
     "output_type": "display_data"
    }
   ],
   "source": [
    "plt.figure(figsize=(10, 6))  # グラフのサイズを10x6インチに設定\n",
    "park_types.plot(kind='bar')  # 棒グラフを描画\n",
    "plt.title('神奈川県における公園の種別分布')  # グラフのタイトル\n",
    "plt.xlabel('公園の種別')  # X軸のラベル\n",
    "plt.ylabel('公園の数')  # Y軸のラベル\n",
    "plt.xticks(rotation=45)  # X軸のラベルを45度回転して読みやすくする\n",
    "plt.show()  # グラフを表示"
   ]
  },
  {
   "cell_type": "code",
   "execution_count": null,
   "id": "bf752ab7-65f0-488d-90b9-9b9501fba724",
   "metadata": {},
   "outputs": [],
   "source": []
  },
  {
   "cell_type": "code",
   "execution_count": null,
   "id": "37b3b4e1-21e1-4958-93ba-1868f18c6844",
   "metadata": {},
   "outputs": [],
   "source": []
  },
  {
   "cell_type": "code",
   "execution_count": null,
   "id": "41c6011f-15c3-43fc-a66b-cdf1fae6c70b",
   "metadata": {},
   "outputs": [],
   "source": []
  }
 ],
 "metadata": {
  "kernelspec": {
   "display_name": "Python 3 (ipykernel)",
   "language": "python",
   "name": "python3"
  },
  "language_info": {
   "codemirror_mode": {
    "name": "ipython",
    "version": 3
   },
   "file_extension": ".py",
   "mimetype": "text/x-python",
   "name": "python",
   "nbconvert_exporter": "python",
   "pygments_lexer": "ipython3",
   "version": "3.11.5"
  }
 },
 "nbformat": 4,
 "nbformat_minor": 5
}
